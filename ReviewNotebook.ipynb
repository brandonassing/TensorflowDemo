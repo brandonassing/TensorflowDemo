{
 "cells": [
  {
   "cell_type": "code",
   "execution_count": 34,
   "metadata": {},
   "outputs": [
    {
     "name": "stdout",
     "output_type": "stream",
     "text": [
      "1.12.0\n"
     ]
    }
   ],
   "source": [
    "import tensorflow as tf\n",
    "from tensorflow import keras\n",
    "\n",
    "import numpy as np\n",
    "\n",
    "print(tf.__version__)\n"
   ]
  },
  {
   "cell_type": "code",
   "execution_count": 56,
   "metadata": {},
   "outputs": [],
   "source": [
    "imdb = keras.datasets.imdb\n",
    "\n",
    "(train_data, train_labels), (test_data, test_labels) = imdb.load_data(num_words=10000)\n"
   ]
  },
  {
   "cell_type": "code",
   "execution_count": 57,
   "metadata": {},
   "outputs": [
    {
     "name": "stdout",
     "output_type": "stream",
     "text": [
      "Training entries: 25000, labels: 25000\n"
     ]
    }
   ],
   "source": [
    "print(\"Training entries: {}, labels: {}\".format(len(train_data), len(train_labels)))\n"
   ]
  },
  {
   "cell_type": "code",
   "execution_count": 107,
   "metadata": {},
   "outputs": [
    {
     "name": "stdout",
     "output_type": "stream",
     "text": [
      "[   1   14   22   16   43  530  973 1622 1385   65  458 4468   66 3941\n",
      "    4  173   36  256    5   25  100   43  838  112   50  670    2    9\n",
      "   35  480  284    5  150    4  172  112  167    2  336  385   39    4\n",
      "  172 4536 1111   17  546   38   13  447    4  192   50   16    6  147\n",
      " 2025   19   14   22    4 1920 4613  469    4   22   71   87   12   16\n",
      "   43  530   38   76   15   13 1247    4   22   17  515   17   12   16\n",
      "  626   18    2    5   62  386   12    8  316    8  106    5    4 2223\n",
      " 5244   16  480   66 3785   33    4  130   12   16   38  619    5   25\n",
      "  124   51   36  135   48   25 1415   33    6   22   12  215   28   77\n",
      "   52    5   14  407   16   82    2    8    4  107  117 5952   15  256\n",
      "    4    2    7 3766    5  723   36   71   43  530  476   26  400  317\n",
      "   46    7    4    2 1029   13  104   88    4  381   15  297   98   32\n",
      " 2071   56   26  141    6  194 7486   18    4  226   22   21  134  476\n",
      "   26  480    5  144   30 5535   18   51   36   28  224   92   25  104\n",
      "    4  226   65   16   38 1334   88   12   16  283    5   16 4472  113\n",
      "  103   32   15   16 5345   19  178   32    0    0    0    0    0    0\n",
      "    0    0    0    0    0    0    0    0    0    0    0    0    0    0\n",
      "    0    0    0    0    0    0    0    0    0    0    0    0    0    0\n",
      "    0    0    0    0]\n"
     ]
    }
   ],
   "source": [
    "print(train_data[0])\n"
   ]
  },
  {
   "cell_type": "code",
   "execution_count": 59,
   "metadata": {},
   "outputs": [
    {
     "data": {
      "text/plain": [
       "(218, 189)"
      ]
     },
     "execution_count": 59,
     "metadata": {},
     "output_type": "execute_result"
    }
   ],
   "source": [
    "len(train_data[0]), len(train_data[1])\n"
   ]
  },
  {
   "cell_type": "code",
   "execution_count": 137,
   "metadata": {},
   "outputs": [
    {
     "name": "stdout",
     "output_type": "stream",
     "text": [
      "[2, 16, 6, 527, 20]\n"
     ]
    }
   ],
   "source": [
    "# A dictionary mapping words to an integer index\n",
    "word_index = imdb.get_word_index()\n",
    "\n",
    "# The first indices are reserved\n",
    "word_index = {k:(v+3) for k,v in word_index.items()} \n",
    "# print(word_index)\n",
    "word_index[\"<PAD>\"] = 0\n",
    "word_index[\"<START>\"] = 1\n",
    "word_index[\"<UNK>\"] = 2  # unknown\n",
    "word_index[\"<UNUSED>\"] = 3\n",
    "\n",
    "reverse_word_index = dict([(value, key) for (key, value) in word_index.items()])\n",
    "\n",
    "def decode_review(text):\n",
    "    return ' '.join([reverse_word_index.get(i, '?') for i in text])\n",
    "\n",
    "def encode_review(text):\n",
    "    text = text.split(' ')\n",
    "    encoded_text = []\n",
    "    for i in text:\n",
    "        encoded_text.append(word_index.get(i, 2))\n",
    "    return encoded_text\n",
    "\n",
    "# print(encode_review(\"This was a horrible movie\"))\n"
   ]
  },
  {
   "cell_type": "code",
   "execution_count": 118,
   "metadata": {},
   "outputs": [
    {
     "name": "stdout",
     "output_type": "stream",
     "text": [
      "twenty first century to hang out in <UNK> but he is raised on the western <UNK> among a <UNK> speaking community br br yet there is a deeper conflict within him he <UNK> to know the truth the truth behind his <UNK> ancient stories where does fiction end and he wants to know the truth behind the death of his parents br br he is pulled to make a last <UNK> journey to the <UNK> of one of <UNK> most <UNK> mountains can the truth be told or is it all in stories br br in this story about stories we <UNK> bloody battles <UNK> lovers the <UNK> of old and the sometimes more <UNK> <UNK> of accepted truth in doing so we each connect with <UNK> as he lives the story of his own life br br <UNK> the <UNK> <UNK> is probably the most honest <UNK> and genuinely beautiful film of scotland ever made like <UNK> i got slightly annoyed with the <UNK> of hanging stories on more stories but also like <UNK> i <UNK> this once i saw the <UNK> picture ' forget the box office <UNK> of braveheart and its like you might even <UNK> the <UNK> famous <UNK> of the wicker man to see a film that is true to scotland this one is probably unique if you maybe <UNK> on it deeply enough you might even re <UNK> the power of storytelling and the age old question of whether there are some truths that cannot be told but only experienced\n",
      "1\n",
      "0\n",
      "1\n",
      "0\n"
     ]
    }
   ],
   "source": [
    "print(decode_review(train_data[3]))\n",
    "\n",
    "print(train_labels[3])\n",
    "# print(decode_review(test_data[1]))\n",
    "\n",
    "print(test_labels[0])\n",
    "print(test_labels[1])\n",
    "print(test_labels[7])\n"
   ]
  },
  {
   "cell_type": "code",
   "execution_count": 62,
   "metadata": {},
   "outputs": [],
   "source": [
    "train_data = keras.preprocessing.sequence.pad_sequences(train_data,\n",
    "                                                        value=word_index[\"<PAD>\"],\n",
    "                                                        padding='post',\n",
    "                                                        maxlen=256)\n",
    "\n",
    "test_data = keras.preprocessing.sequence.pad_sequences(test_data,\n",
    "                                                       value=word_index[\"<PAD>\"],\n",
    "                                                       padding='post',\n",
    "                                                       maxlen=256)\n"
   ]
  },
  {
   "cell_type": "code",
   "execution_count": 63,
   "metadata": {},
   "outputs": [
    {
     "data": {
      "text/plain": [
       "(256, 256)"
      ]
     },
     "execution_count": 63,
     "metadata": {},
     "output_type": "execute_result"
    }
   ],
   "source": [
    "len(train_data[0]), len(train_data[1])\n"
   ]
  },
  {
   "cell_type": "code",
   "execution_count": 64,
   "metadata": {},
   "outputs": [
    {
     "name": "stdout",
     "output_type": "stream",
     "text": [
      "[   1   14   22   16   43  530  973 1622 1385   65  458 4468   66 3941\n",
      "    4  173   36  256    5   25  100   43  838  112   50  670    2    9\n",
      "   35  480  284    5  150    4  172  112  167    2  336  385   39    4\n",
      "  172 4536 1111   17  546   38   13  447    4  192   50   16    6  147\n",
      " 2025   19   14   22    4 1920 4613  469    4   22   71   87   12   16\n",
      "   43  530   38   76   15   13 1247    4   22   17  515   17   12   16\n",
      "  626   18    2    5   62  386   12    8  316    8  106    5    4 2223\n",
      " 5244   16  480   66 3785   33    4  130   12   16   38  619    5   25\n",
      "  124   51   36  135   48   25 1415   33    6   22   12  215   28   77\n",
      "   52    5   14  407   16   82    2    8    4  107  117 5952   15  256\n",
      "    4    2    7 3766    5  723   36   71   43  530  476   26  400  317\n",
      "   46    7    4    2 1029   13  104   88    4  381   15  297   98   32\n",
      " 2071   56   26  141    6  194 7486   18    4  226   22   21  134  476\n",
      "   26  480    5  144   30 5535   18   51   36   28  224   92   25  104\n",
      "    4  226   65   16   38 1334   88   12   16  283    5   16 4472  113\n",
      "  103   32   15   16 5345   19  178   32    0    0    0    0    0    0\n",
      "    0    0    0    0    0    0    0    0    0    0    0    0    0    0\n",
      "    0    0    0    0    0    0    0    0    0    0    0    0    0    0\n",
      "    0    0    0    0]\n"
     ]
    }
   ],
   "source": [
    "print(train_data[0])\n"
   ]
  },
  {
   "cell_type": "code",
   "execution_count": 65,
   "metadata": {},
   "outputs": [
    {
     "name": "stdout",
     "output_type": "stream",
     "text": [
      "_________________________________________________________________\n",
      "Layer (type)                 Output Shape              Param #   \n",
      "=================================================================\n",
      "embedding_3 (Embedding)      (None, None, 16)          160000    \n",
      "_________________________________________________________________\n",
      "global_average_pooling1d_3 ( (None, 16)                0         \n",
      "_________________________________________________________________\n",
      "dense_6 (Dense)              (None, 16)                272       \n",
      "_________________________________________________________________\n",
      "dense_7 (Dense)              (None, 1)                 17        \n",
      "=================================================================\n",
      "Total params: 160,289\n",
      "Trainable params: 160,289\n",
      "Non-trainable params: 0\n",
      "_________________________________________________________________\n"
     ]
    }
   ],
   "source": [
    "vocab_size = 10000\n",
    "\n",
    "model = keras.Sequential()\n",
    "model.add(keras.layers.Embedding(vocab_size, 16))\n",
    "model.add(keras.layers.GlobalAveragePooling1D())\n",
    "model.add(keras.layers.Dense(16, activation=tf.nn.relu))\n",
    "model.add(keras.layers.Dense(1, activation=tf.nn.sigmoid))\n",
    "\n",
    "model.summary()\n"
   ]
  },
  {
   "cell_type": "code",
   "execution_count": 66,
   "metadata": {},
   "outputs": [],
   "source": [
    "model.compile(optimizer='adam',\n",
    "              loss='binary_crossentropy',\n",
    "              metrics=['accuracy'])"
   ]
  },
  {
   "cell_type": "code",
   "execution_count": 67,
   "metadata": {},
   "outputs": [],
   "source": [
    "x_val = train_data[:10000]\n",
    "partial_x_train = train_data[10000:]\n",
    "\n",
    "y_val = train_labels[:10000]\n",
    "partial_y_train = train_labels[10000:]"
   ]
  },
  {
   "cell_type": "code",
   "execution_count": 68,
   "metadata": {},
   "outputs": [
    {
     "name": "stdout",
     "output_type": "stream",
     "text": [
      "Train on 15000 samples, validate on 10000 samples\n",
      "Epoch 1/40\n",
      "15000/15000 [==============================] - 1s 45us/step - loss: 0.6920 - acc: 0.5063 - val_loss: 0.6903 - val_acc: 0.5230\n",
      "Epoch 2/40\n",
      "15000/15000 [==============================] - 0s 13us/step - loss: 0.6861 - acc: 0.6035 - val_loss: 0.6817 - val_acc: 0.6702\n",
      "Epoch 3/40\n",
      "15000/15000 [==============================] - 0s 13us/step - loss: 0.6723 - acc: 0.6931 - val_loss: 0.6645 - val_acc: 0.7117\n",
      "Epoch 4/40\n",
      "15000/15000 [==============================] - 0s 13us/step - loss: 0.6479 - acc: 0.7541 - val_loss: 0.6372 - val_acc: 0.7417\n",
      "Epoch 5/40\n",
      "15000/15000 [==============================] - 0s 13us/step - loss: 0.6119 - acc: 0.7864 - val_loss: 0.5990 - val_acc: 0.7864\n",
      "Epoch 6/40\n",
      "15000/15000 [==============================] - 0s 13us/step - loss: 0.5670 - acc: 0.8135 - val_loss: 0.5554 - val_acc: 0.8131\n",
      "Epoch 7/40\n",
      "15000/15000 [==============================] - 0s 14us/step - loss: 0.5174 - acc: 0.8382 - val_loss: 0.5104 - val_acc: 0.8256\n",
      "Epoch 8/40\n",
      "15000/15000 [==============================] - 0s 14us/step - loss: 0.4685 - acc: 0.8546 - val_loss: 0.4682 - val_acc: 0.8390\n",
      "Epoch 9/40\n",
      "15000/15000 [==============================] - 0s 13us/step - loss: 0.4245 - acc: 0.8653 - val_loss: 0.4319 - val_acc: 0.8478\n",
      "Epoch 10/40\n",
      "15000/15000 [==============================] - 0s 13us/step - loss: 0.3859 - acc: 0.8777 - val_loss: 0.4022 - val_acc: 0.8551\n",
      "Epoch 11/40\n",
      "15000/15000 [==============================] - 0s 13us/step - loss: 0.3540 - acc: 0.8857 - val_loss: 0.3805 - val_acc: 0.8589\n",
      "Epoch 12/40\n",
      "15000/15000 [==============================] - 0s 14us/step - loss: 0.3277 - acc: 0.8908 - val_loss: 0.3590 - val_acc: 0.8670\n",
      "Epoch 13/40\n",
      "15000/15000 [==============================] - 0s 13us/step - loss: 0.3038 - acc: 0.8989 - val_loss: 0.3444 - val_acc: 0.8700\n",
      "Epoch 14/40\n",
      "15000/15000 [==============================] - 0s 15us/step - loss: 0.2840 - acc: 0.9051 - val_loss: 0.3314 - val_acc: 0.8737\n",
      "Epoch 15/40\n",
      "15000/15000 [==============================] - 0s 15us/step - loss: 0.2670 - acc: 0.9093 - val_loss: 0.3216 - val_acc: 0.8766\n",
      "Epoch 16/40\n",
      "15000/15000 [==============================] - 0s 15us/step - loss: 0.2524 - acc: 0.9137 - val_loss: 0.3135 - val_acc: 0.8784\n",
      "Epoch 17/40\n",
      "15000/15000 [==============================] - 0s 15us/step - loss: 0.2383 - acc: 0.9197 - val_loss: 0.3070 - val_acc: 0.8794\n",
      "Epoch 18/40\n",
      "15000/15000 [==============================] - 0s 15us/step - loss: 0.2261 - acc: 0.9238 - val_loss: 0.3015 - val_acc: 0.8812\n",
      "Epoch 19/40\n",
      "15000/15000 [==============================] - 0s 18us/step - loss: 0.2146 - acc: 0.9277 - val_loss: 0.2972 - val_acc: 0.8817\n",
      "Epoch 20/40\n",
      "15000/15000 [==============================] - 0s 17us/step - loss: 0.2046 - acc: 0.9311 - val_loss: 0.2937 - val_acc: 0.8836\n",
      "Epoch 21/40\n",
      "15000/15000 [==============================] - 0s 14us/step - loss: 0.1949 - acc: 0.9348 - val_loss: 0.2911 - val_acc: 0.8842\n",
      "Epoch 22/40\n",
      "15000/15000 [==============================] - 0s 14us/step - loss: 0.1859 - acc: 0.9398 - val_loss: 0.2893 - val_acc: 0.8850\n",
      "Epoch 23/40\n",
      "15000/15000 [==============================] - 0s 13us/step - loss: 0.1778 - acc: 0.9428 - val_loss: 0.2885 - val_acc: 0.8843\n",
      "Epoch 24/40\n",
      "15000/15000 [==============================] - 0s 13us/step - loss: 0.1695 - acc: 0.9463 - val_loss: 0.2869 - val_acc: 0.8846\n",
      "Epoch 25/40\n",
      "15000/15000 [==============================] - 0s 15us/step - loss: 0.1624 - acc: 0.9488 - val_loss: 0.2862 - val_acc: 0.8853\n",
      "Epoch 26/40\n",
      "15000/15000 [==============================] - 0s 15us/step - loss: 0.1552 - acc: 0.9517 - val_loss: 0.2867 - val_acc: 0.8862\n",
      "Epoch 27/40\n",
      "15000/15000 [==============================] - 0s 17us/step - loss: 0.1492 - acc: 0.9546 - val_loss: 0.2874 - val_acc: 0.8859\n",
      "Epoch 28/40\n",
      "15000/15000 [==============================] - 0s 14us/step - loss: 0.1428 - acc: 0.9579 - val_loss: 0.2875 - val_acc: 0.8859\n",
      "Epoch 29/40\n",
      "15000/15000 [==============================] - 0s 15us/step - loss: 0.1371 - acc: 0.9588 - val_loss: 0.2882 - val_acc: 0.8856\n",
      "Epoch 30/40\n",
      "15000/15000 [==============================] - 0s 14us/step - loss: 0.1320 - acc: 0.9613 - val_loss: 0.2895 - val_acc: 0.8856\n",
      "Epoch 31/40\n",
      "15000/15000 [==============================] - 0s 14us/step - loss: 0.1259 - acc: 0.9635 - val_loss: 0.2914 - val_acc: 0.8853\n",
      "Epoch 32/40\n",
      "15000/15000 [==============================] - 0s 16us/step - loss: 0.1213 - acc: 0.9657 - val_loss: 0.2935 - val_acc: 0.8856\n",
      "Epoch 33/40\n",
      "15000/15000 [==============================] - 0s 14us/step - loss: 0.1157 - acc: 0.9678 - val_loss: 0.2957 - val_acc: 0.8854\n",
      "Epoch 34/40\n",
      "15000/15000 [==============================] - 0s 14us/step - loss: 0.1113 - acc: 0.9687 - val_loss: 0.2983 - val_acc: 0.8847\n",
      "Epoch 35/40\n",
      "15000/15000 [==============================] - 0s 14us/step - loss: 0.1073 - acc: 0.9703 - val_loss: 0.3002 - val_acc: 0.8846\n",
      "Epoch 36/40\n",
      "15000/15000 [==============================] - 0s 14us/step - loss: 0.1024 - acc: 0.9725 - val_loss: 0.3033 - val_acc: 0.8846\n",
      "Epoch 37/40\n",
      "15000/15000 [==============================] - 0s 14us/step - loss: 0.0985 - acc: 0.9739 - val_loss: 0.3063 - val_acc: 0.8833\n",
      "Epoch 38/40\n",
      "15000/15000 [==============================] - 0s 14us/step - loss: 0.0950 - acc: 0.9745 - val_loss: 0.3101 - val_acc: 0.8820\n",
      "Epoch 39/40\n",
      "15000/15000 [==============================] - 0s 14us/step - loss: 0.0908 - acc: 0.9770 - val_loss: 0.3128 - val_acc: 0.8820\n",
      "Epoch 40/40\n",
      "15000/15000 [==============================] - 0s 14us/step - loss: 0.0870 - acc: 0.9783 - val_loss: 0.3161 - val_acc: 0.8816\n"
     ]
    }
   ],
   "source": [
    "history = model.fit(partial_x_train,\n",
    "                    partial_y_train,\n",
    "                    epochs=40,\n",
    "                    batch_size=512,\n",
    "                    validation_data=(x_val, y_val),\n",
    "                    verbose=1)"
   ]
  },
  {
   "cell_type": "code",
   "execution_count": 75,
   "metadata": {},
   "outputs": [
    {
     "name": "stdout",
     "output_type": "stream",
     "text": [
      "25000/25000 [==============================] - 0s 12us/step\n",
      "0.33642614294052126 0.87092\n"
     ]
    }
   ],
   "source": [
    "val_loss, val_acc = model.evaluate(test_data, test_labels)\n",
    "\n",
    "print(val_loss, val_acc)"
   ]
  },
  {
   "cell_type": "code",
   "execution_count": 70,
   "metadata": {},
   "outputs": [
    {
     "data": {
      "text/plain": [
       "dict_keys(['val_loss', 'val_acc', 'loss', 'acc'])"
      ]
     },
     "execution_count": 70,
     "metadata": {},
     "output_type": "execute_result"
    }
   ],
   "source": [
    "history_dict = history.history\n",
    "history_dict.keys()"
   ]
  },
  {
   "cell_type": "code",
   "execution_count": 73,
   "metadata": {},
   "outputs": [
    {
     "data": {
      "image/png": "[encoded data removed]",
      "text/plain": [
       "<Figure size 432x288 with 1 Axes>"
      ]
     },
     "metadata": {
      "needs_background": "light"
     },
     "output_type": "display_data"
    }
   ],
   "source": [
    "import matplotlib.pyplot as plt\n",
    "\n",
    "acc = history.history['acc']\n",
    "val_acc = history.history['val_acc']\n",
    "loss = history.history['loss']\n",
    "val_loss = history.history['val_loss']\n",
    "\n",
    "epochs = range(1, len(acc) + 1)\n",
    "\n",
    "# \"bo\" is for \"blue dot\"\n",
    "plt.plot(epochs, loss, 'bo', label='Training loss')\n",
    "# b is for \"solid blue line\"\n",
    "plt.plot(epochs, val_loss, 'b', label='Validation loss')\n",
    "plt.title('Training and validation loss')\n",
    "plt.xlabel('Epochs')\n",
    "plt.ylabel('Loss')\n",
    "plt.legend()\n",
    "\n",
    "plt.show()\n"
   ]
  },
  {
   "cell_type": "code",
   "execution_count": 74,
   "metadata": {},
   "outputs": [
    {
     "data": {
      "image/png": "[encoded data removed]",
      "text/plain": [
       "<Figure size 432x288 with 1 Axes>"
      ]
     },
     "metadata": {
      "needs_background": "light"
     },
     "output_type": "display_data"
    }
   ],
   "source": [
    "plt.clf()   # clear figure\n",
    "acc_values = history_dict['acc']\n",
    "val_acc_values = history_dict['val_acc']\n",
    "\n",
    "plt.plot(epochs, acc, 'bo', label='Training acc')\n",
    "plt.plot(epochs, val_acc, 'b', label='Validation acc')\n",
    "plt.title('Training and validation accuracy')\n",
    "plt.xlabel('Epochs')\n",
    "plt.ylabel('Accuracy')\n",
    "plt.legend()\n",
    "\n",
    "plt.show()"
   ]
  },
  {
   "cell_type": "code",
   "execution_count": 76,
   "metadata": {},
   "outputs": [],
   "source": [
    "model.save('movie_review.model')"
   ]
  },
  {
   "cell_type": "code",
   "execution_count": 77,
   "metadata": {},
   "outputs": [
    {
     "name": "stderr",
     "output_type": "stream",
     "text": [
      "/anaconda3/envs/keras_tf/lib/python3.6/site-packages/tensorflow/python/ops/gradients_impl.py:112: UserWarning: Converting sparse IndexedSlices to a dense Tensor of unknown shape. This may consume a large amount of memory.\n",
      "  \"Converting sparse IndexedSlices to a dense Tensor of unknown shape. \"\n"
     ]
    }
   ],
   "source": [
    "new_model = tf.keras.models.load_model('movie_review.model')"
   ]
  },
  {
   "cell_type": "code",
   "execution_count": 154,
   "metadata": {},
   "outputs": [
    {
     "name": "stdout",
     "output_type": "stream",
     "text": [
      "custom: [[0.05630423]\n",
      " [0.7057229 ]\n",
      " [0.5281438 ]]\n",
      "test_data [[0.0734168]]\n"
     ]
    }
   ],
   "source": [
    "new_reviews = [encode_review(\"this was the worst movie I've ever seen. I could not believe how horrible it was. 0/10 terrible experience\"), encode_review(\"I enjoyed this movie so much\"), encode_review(\"it was ok\")]\n",
    "new_reviews = keras.preprocessing.sequence.pad_sequences(new_reviews,\n",
    "                                                       value=word_index[\"<PAD>\"],\n",
    "                                                       padding='post',\n",
    "                                                       maxlen=256)\n",
    "new_pred = new_model.predict([new_reviews])\n",
    "print(\"custom:\", new_pred)\n",
    "\n",
    "\n",
    "predictions = new_model.predict([test_data[0:1]])\n",
    "print(\"test_data\", predictions)"
   ]
  },
  {
   "cell_type": "code",
   "execution_count": 120,
   "metadata": {},
   "outputs": [
    {
     "name": "stdout",
     "output_type": "stream",
     "text": [
      "0\n"
     ]
    }
   ],
   "source": [
    "import numpy as np\n",
    "print(np.argmax(predictions[0]))"
   ]
  },
  {
   "cell_type": "code",
   "execution_count": 99,
   "metadata": {},
   "outputs": [
    {
     "name": "stdout",
     "output_type": "stream",
     "text": [
      "<START> please give this one a miss br br <UNK> <UNK> and the rest of the cast rendered terrible performances the show is flat flat flat br br i don't know how michael madison could have allowed this one on his plate he almost seemed to know this wasn't going to work out and his performance was quite <UNK> so all you madison fans give this a miss <PAD> <PAD> <PAD> <PAD> <PAD> <PAD> <PAD> <PAD> <PAD> <PAD> <PAD> <PAD> <PAD> <PAD> <PAD> <PAD> <PAD> <PAD> <PAD> <PAD> <PAD> <PAD> <PAD> <PAD> <PAD> <PAD> <PAD> <PAD> <PAD> <PAD> <PAD> <PAD> <PAD> <PAD> <PAD> <PAD> <PAD> <PAD> <PAD> <PAD> <PAD> <PAD> <PAD> <PAD> <PAD> <PAD> <PAD> <PAD> <PAD> <PAD> <PAD> <PAD> <PAD> <PAD> <PAD> <PAD> <PAD> <PAD> <PAD> <PAD> <PAD> <PAD> <PAD> <PAD> <PAD> <PAD> <PAD> <PAD> <PAD> <PAD> <PAD> <PAD> <PAD> <PAD> <PAD> <PAD> <PAD> <PAD> <PAD> <PAD> <PAD> <PAD> <PAD> <PAD> <PAD> <PAD> <PAD> <PAD> <PAD> <PAD> <PAD> <PAD> <PAD> <PAD> <PAD> <PAD> <PAD> <PAD> <PAD> <PAD> <PAD> <PAD> <PAD> <PAD> <PAD> <PAD> <PAD> <PAD> <PAD> <PAD> <PAD> <PAD> <PAD> <PAD> <PAD> <PAD> <PAD> <PAD> <PAD> <PAD> <PAD> <PAD> <PAD> <PAD> <PAD> <PAD> <PAD> <PAD> <PAD> <PAD> <PAD> <PAD> <PAD> <PAD> <PAD> <PAD> <PAD> <PAD> <PAD> <PAD> <PAD> <PAD> <PAD> <PAD> <PAD> <PAD> <PAD> <PAD> <PAD> <PAD> <PAD> <PAD> <PAD> <PAD> <PAD> <PAD> <PAD> <PAD> <PAD> <PAD> <PAD> <PAD> <PAD> <PAD> <PAD> <PAD> <PAD> <PAD> <PAD> <PAD> <PAD> <PAD> <PAD> <PAD> <PAD> <PAD> <PAD> <PAD> <PAD> <PAD> <PAD> <PAD> <PAD> <PAD> <PAD> <PAD> <PAD> <PAD>\n"
     ]
    }
   ],
   "source": [
    "print(decode_review(test_data[0]))"
   ]
  },
  {
   "cell_type": "code",
   "execution_count": null,
   "metadata": {},
   "outputs": [],
   "source": []
  }
 ],
 "metadata": {
  "kernelspec": {
   "display_name": "Python 3",
   "language": "python",
   "name": "python3"
  },
  "language_info": {
   "codemirror_mode": {
    "name": "ipython",
    "version": 3
   },
   "file_extension": ".py",
   "mimetype": "text/x-python",
   "name": "python",
   "nbconvert_exporter": "python",
   "pygments_lexer": "ipython3",
   "version": "3.6.8"
  }
 },
 "nbformat": 4,
 "nbformat_minor": 2
}
